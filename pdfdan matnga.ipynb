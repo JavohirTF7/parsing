{
 "cells": [
  {
   "cell_type": "code",
   "execution_count": 1,
   "id": "92423e11-6a00-4555-94cc-fa31809c2137",
   "metadata": {},
   "outputs": [],
   "source": [
    "import os\n",
    "\n",
    "os.environ['CUDA_VISIBLE_DEVICES'] = '1,2'"
   ]
  },
  {
   "cell_type": "code",
   "execution_count": 2,
   "id": "36b7c026-1d08-49e4-836d-ae2f99f3d1dc",
   "metadata": {},
   "outputs": [
    {
     "ename": "ValueError",
     "evalue": "\u001b[91mYou are using a deprecated configuration of Chroma.\n\n\u001b[94mIf you do not have data you wish to migrate, you only need to change how you construct\nyour Chroma client. Please see the \"New Clients\" section of https://docs.trychroma.com/migration.\n________________________________________________________________________________________________\n\nIf you do have data you wish to migrate, we have a migration tool you can use in order to\nmigrate your data to the new Chroma architecture.\nPlease `pip install chroma-migrate` and run `chroma-migrate` to migrate your data and then\nchange how you construct your Chroma client.\n\nSee https://docs.trychroma.com/migration for more information or join our discord at https://discord.gg/8g5FESbj for help!\u001b[0m",
     "output_type": "error",
     "traceback": [
      "\u001b[0;31m---------------------------------------------------------------------------\u001b[0m",
      "\u001b[0;31mValueError\u001b[0m                                Traceback (most recent call last)",
      "Cell \u001b[0;32mIn [2], line 5\u001b[0m\n\u001b[1;32m      1\u001b[0m \u001b[38;5;28;01mimport\u001b[39;00m \u001b[38;5;21;01mchromadb\u001b[39;00m\n\u001b[1;32m      2\u001b[0m \u001b[38;5;28;01mfrom\u001b[39;00m \u001b[38;5;21;01mchromadb\u001b[39;00m\u001b[38;5;21;01m.\u001b[39;00m\u001b[38;5;21;01mconfig\u001b[39;00m \u001b[38;5;28;01mimport\u001b[39;00m Settings\n\u001b[0;32m----> 5\u001b[0m client \u001b[38;5;241m=\u001b[39m chromadb\u001b[38;5;241m.\u001b[39mClient(Settings(chroma_db_impl\u001b[38;5;241m=\u001b[39m\u001b[38;5;124m\"\u001b[39m\u001b[38;5;124mduckdb+parquet\u001b[39m\u001b[38;5;124m\"\u001b[39m,\n\u001b[1;32m      6\u001b[0m                                     persist_directory\u001b[38;5;241m=\u001b[39m\u001b[38;5;124m\"\u001b[39m\u001b[38;5;124mdb/\u001b[39m\u001b[38;5;124m\"\u001b[39m\n\u001b[1;32m      7\u001b[0m                                 ))\n",
      "File \u001b[0;32m~/.local/lib/python3.9/site-packages/chromadb/__init__.py:140\u001b[0m, in \u001b[0;36mClient\u001b[0;34m(settings)\u001b[0m\n\u001b[1;32m    137\u001b[0m \u001b[38;5;28;01mdef\u001b[39;00m \u001b[38;5;21mClient\u001b[39m(settings: Settings \u001b[38;5;241m=\u001b[39m __settings) \u001b[38;5;241m-\u001b[39m\u001b[38;5;241m>\u001b[39m API:\n\u001b[1;32m    138\u001b[0m \u001b[38;5;250m    \u001b[39m\u001b[38;5;124;03m\"\"\"Return a running chroma.API instance\"\"\"\u001b[39;00m\n\u001b[0;32m--> 140\u001b[0m     system \u001b[38;5;241m=\u001b[39m \u001b[43mSystem\u001b[49m\u001b[43m(\u001b[49m\u001b[43msettings\u001b[49m\u001b[43m)\u001b[49m\n\u001b[1;32m    142\u001b[0m     telemetry_client \u001b[38;5;241m=\u001b[39m system\u001b[38;5;241m.\u001b[39minstance(Telemetry)\n\u001b[1;32m    143\u001b[0m     api \u001b[38;5;241m=\u001b[39m system\u001b[38;5;241m.\u001b[39minstance(API)\n",
      "File \u001b[0;32m~/.local/lib/python3.9/site-packages/chromadb/config.py:227\u001b[0m, in \u001b[0;36mSystem.__init__\u001b[0;34m(self, settings)\u001b[0m\n\u001b[1;32m    225\u001b[0m \u001b[38;5;66;03m# Validate settings don't contain any legacy config values\u001b[39;00m\n\u001b[1;32m    226\u001b[0m \u001b[38;5;28;01mfor\u001b[39;00m key \u001b[38;5;129;01min\u001b[39;00m _legacy_config_keys:\n\u001b[0;32m--> 227\u001b[0m     \u001b[38;5;28;01mif\u001b[39;00m \u001b[43msettings\u001b[49m\u001b[43m[\u001b[49m\u001b[43mkey\u001b[49m\u001b[43m]\u001b[49m \u001b[38;5;129;01mis\u001b[39;00m \u001b[38;5;129;01mnot\u001b[39;00m \u001b[38;5;28;01mNone\u001b[39;00m:\n\u001b[1;32m    228\u001b[0m         \u001b[38;5;28;01mraise\u001b[39;00m \u001b[38;5;167;01mValueError\u001b[39;00m(LEGACY_ERROR)\n\u001b[1;32m    230\u001b[0m \u001b[38;5;28mself\u001b[39m\u001b[38;5;241m.\u001b[39msettings \u001b[38;5;241m=\u001b[39m settings\n",
      "File \u001b[0;32m~/.local/lib/python3.9/site-packages/chromadb/config.py:164\u001b[0m, in \u001b[0;36mSettings.__getitem__\u001b[0;34m(self, key)\u001b[0m\n\u001b[1;32m    162\u001b[0m \u001b[38;5;66;03m# Error on legacy config values\u001b[39;00m\n\u001b[1;32m    163\u001b[0m \u001b[38;5;28;01mif\u001b[39;00m \u001b[38;5;28misinstance\u001b[39m(val, \u001b[38;5;28mstr\u001b[39m) \u001b[38;5;129;01mand\u001b[39;00m val \u001b[38;5;129;01min\u001b[39;00m _legacy_config_values:\n\u001b[0;32m--> 164\u001b[0m     \u001b[38;5;28;01mraise\u001b[39;00m \u001b[38;5;167;01mValueError\u001b[39;00m(LEGACY_ERROR)\n\u001b[1;32m    165\u001b[0m \u001b[38;5;28;01mreturn\u001b[39;00m val\n",
      "\u001b[0;31mValueError\u001b[0m: \u001b[91mYou are using a deprecated configuration of Chroma.\n\n\u001b[94mIf you do not have data you wish to migrate, you only need to change how you construct\nyour Chroma client. Please see the \"New Clients\" section of https://docs.trychroma.com/migration.\n________________________________________________________________________________________________\n\nIf you do have data you wish to migrate, we have a migration tool you can use in order to\nmigrate your data to the new Chroma architecture.\nPlease `pip install chroma-migrate` and run `chroma-migrate` to migrate your data and then\nchange how you construct your Chroma client.\n\nSee https://docs.trychroma.com/migration for more information or join our discord at https://discord.gg/8g5FESbj for help!\u001b[0m"
     ]
    }
   ],
   "source": [
    "import chromadb\n",
    "from chromadb.config import Settings\n",
    "\n",
    "\n",
    "client = chromadb.Client(Settings(chroma_db_impl=\"duckdb+parquet\",\n",
    "                                    persist_directory=\"db/\"\n",
    "                                ))"
   ]
  },
  {
   "cell_type": "code",
   "execution_count": null,
   "id": "711ef0ba-ff84-4e61-b147-2029198f9ab7",
   "metadata": {},
   "outputs": [],
   "source": []
  },
  {
   "cell_type": "code",
   "execution_count": null,
   "id": "a3a9da5b-be93-431f-97e2-6603ce8aeab2",
   "metadata": {},
   "outputs": [],
   "source": []
  },
  {
   "cell_type": "markdown",
   "id": "5983f577-95d4-4fb8-a23b-d3d58ad092d1",
   "metadata": {},
   "source": [
    "# Huggingface generatsiya"
   ]
  },
  {
   "cell_type": "code",
   "execution_count": null,
   "id": "01a8d2ea-0420-43ce-834d-8d8a97e0d04a",
   "metadata": {},
   "outputs": [],
   "source": [
    "from huggingface_hub import InferenceClient\n",
    "\n",
    "client = InferenceClient(model=\"http://213.230.107.46:10003\")\n",
    "\n",
    "text = '''\n",
    "Chinoz tumani yo‘llardan foydalanish unitar korxonasi direktori Mirvohid Abdullayevning Kun.uz’ga ma’lum qilishicha, transport vositasida olib kelinayotgan yukning balandligi 5,3 metrni tashkil etgan, ko‘prikning balandligi esa 4,5 metr. Haydovchi shunday bo‘lsa ham hududda mavjud bo‘lgan aylanma yo‘l orqali harakatlanmagan va mazkur holat yuzaga kelgan.\n",
    "'''\n",
    "#for token in client.text_generation(text, max_new_tokens=256, temperature=1.2, best_of=1, top_p=0.9, top_k=40, stream=True):\n",
    " #   print(token)\n",
    "tok=client.text_generation(text, max_new_tokens=256, temperature=1.2, best_of=1, top_p=0.9, top_k=40, stream=True)\n",
    "tok"
   ]
  },
  {
   "cell_type": "code",
   "execution_count": null,
   "id": "1ebe547a-487d-4dc7-b63c-1ddcd728b977",
   "metadata": {},
   "outputs": [],
   "source": [
    "!python DesktopAssistant/src/Jarvis2.py"
   ]
  },
  {
   "cell_type": "code",
   "execution_count": null,
   "id": "3b1832c9-d7c9-4732-933f-fb703a7da7fe",
   "metadata": {},
   "outputs": [],
   "source": [
    "from matplotlib.pyplot import *\n",
    "from matplotlib.widgets import *\n",
    "from math import *\n",
    "from random import *\n",
    "from numpy import *\n",
    "from tkinter import *"
   ]
  },
  {
   "cell_type": "code",
   "execution_count": null,
   "id": "52c77e11-2a28-4406-af6a-7da4b15cf19d",
   "metadata": {},
   "outputs": [],
   "source": [
    "### CREATE VIRTUAL DISPLAY ###\n",
    "!apt-get install -y xvfb # Install X Virtual Frame Buffer\n",
    "import os\n",
    "os.system('Xvfb :1 -screen 0 1600x1200x16  &')    # create virtual display with size 1600x1200 and 16 bit color. Color can be changed to 24 or 8\n",
    "os.environ['DISPLAY']=':1.0' "
   ]
  },
  {
   "cell_type": "code",
   "execution_count": null,
   "id": "a7bc50c9-1fb5-47ee-b64f-8979fbf3badd",
   "metadata": {},
   "outputs": [],
   "source": [
    "import os\n",
    "from gtts import gTTS\n",
    "import os\n",
    "tts = gTTS(text='Chinoz tumani yo‘llardan foydalanish unitar korxonasi direktori Mirvohid Abdullayevning Kun.uz’ga ma’lum qilishicha', lang='en')\n",
    "tts.save(\"hello1.mp3\")\n",
    "\n"
   ]
  },
  {
   "cell_type": "code",
   "execution_count": null,
   "id": "f3b80121-b7e9-46d0-a190-d31d187d8827",
   "metadata": {},
   "outputs": [],
   "source": [
    "import io\n",
    "import pytesseract\n",
    "from pdf2image import convert_from_path\n",
    " \n",
    "def extract_text_from_pdf(pdf_path):\n",
    "    # Convert PDF to image\n",
    "    pages = convert_from_path(pdf_path, 500)\n",
    "     \n",
    "    # Extract text from each page using Tesseract OCR\n",
    "    text_data = ''\n",
    "    for page in pages:\n",
    "        text = pytesseract.image_to_string(page)\n",
    "        text_data += text + '\\n'\n",
    "     \n",
    "    # Return the text data\n",
    "    return text_data\n",
    " \n",
    "text = extract_text_from_pdf('kitoblar_ziyo/10-o-zbek-tilining-izohli-lug-ati?download=2321:o-zbek-tilining-izohli-lug-ati-a.pdf')\n",
    "print(text)"
   ]
  },
  {
   "cell_type": "code",
   "execution_count": null,
   "id": "a11c4afe-aaf8-4276-b651-33c94075485f",
   "metadata": {},
   "outputs": [],
   "source": [
    "pip install aspose-ocr-python-net"
   ]
  },
  {
   "cell_type": "code",
   "execution_count": null,
   "id": "cf3a529e-0e5a-43c7-9b1e-1f601ae66bc3",
   "metadata": {},
   "outputs": [],
   "source": [
    "import aspose as ocr\n",
    "\n",
    "# Initialize an object of AsposeOcr class\n",
    "api = ocr.AsposeOcr()\n",
    "\n",
    "# Load the scanned PDF file\n",
    "input = ocr.OcrInput(ocr.InputType.PDF)\n",
    "input.add(\"kitoblar_ziyo/10-o-zbek-tilining-izohli-lug-ati?download=2321:o-zbek-tilining-izohli-lug-ati-a.pdf\")\n",
    "\n",
    "# Recognize text with OCR\n",
    "result = api.recognize(input)\n",
    "\n",
    "# Print the output text to the console\n",
    "print(result[0].recognition_text)"
   ]
  },
  {
   "cell_type": "code",
   "execution_count": null,
   "id": "42f8a910-a353-4da9-bca8-8b5070078a1d",
   "metadata": {},
   "outputs": [],
   "source": [
    "try:\n",
    "    from PIL import Image\n",
    "except ImportError:\n",
    "    import Image\n",
    "import cv2\n",
    "import pytesseract\n",
    "import os\n",
    "import numpy as np\n",
    "import pandas as pd\n",
    "import re\n",
    "from pdf2image import convert_from_bytes"
   ]
  },
  {
   "cell_type": "markdown",
   "id": "45190c27-76e1-4acb-bf10-0de43717bca2",
   "metadata": {},
   "source": [
    "# rasmdan textga"
   ]
  },
  {
   "cell_type": "code",
   "execution_count": null,
   "id": "829a0e33-3d87-4328-8490-010335efa1c5",
   "metadata": {},
   "outputs": [],
   "source": [
    "import pytesseract\n",
    "from PIL import Image\n",
    " \n",
    "# Open the image file\n",
    "img = Image.open('nnnn.png')\n",
    " \n",
    "# Perform OCR using PyTesseract\n",
    "text = pytesseract.image_to_string(img)\n",
    " \n",
    "# Print the extracted text\n",
    "print(text)"
   ]
  },
  {
   "cell_type": "code",
   "execution_count": null,
   "id": "a4b3e181-f7e4-426b-9007-e26dc70ccf85",
   "metadata": {},
   "outputs": [],
   "source": [
    "import pytesseract\n",
    "from pdf2image import convert_from_path\n",
    "\n",
    "def pdfdan_matnga(pdf_yol):\n",
    "    sahifalar = convert_from_path(pdf_yol)\n",
    "\n",
    "    matn = \"\"\n",
    "    for sahifa in sahifalar:\n",
    "        sahifa_matn = pytesseract.image_to_string(sahifa, lang='uzb+rus')\n",
    "        matn += sahifa_matn\n",
    "\n",
    "    return matn\n",
    "\n",
    "# PDF faylingizning yo'li\n",
    "pdf_fayl = 'fayl.pdf'\n",
    "\n",
    "# PDF ni matn formatiga o'tkazish\n",
    "matn = pdfdan_matnga(pdf_fayl)\n",
    "\n",
    "# Matnni ekranga chiqarish\n",
    "print(matn)"
   ]
  },
  {
   "cell_type": "code",
   "execution_count": null,
   "id": "1c899861-a4f6-4ecd-9a65-9bd7c1a05701",
   "metadata": {},
   "outputs": [],
   "source": [
    "# Kitoblar papkasidagi hamma fayllarni o'qib chiqish\n",
    "for fayl in os.listdir(kitoblar_ziyo):\n",
    "    if fayl.endswith('.pdf'):\n",
    "        pdf_fayl_yol = os.path.join(kitoblar_ziyo, fayl)\n",
    "        kitob_nomi = os.path.splitext(fayl)[0]  # Fayl nomining uzantisi (masalan, .pdf) ni olib tashlaymiz"
   ]
  },
  {
   "cell_type": "code",
   "execution_count": null,
   "id": "39ce1755-3edf-4bb5-b524-2bfa5db13acc",
   "metadata": {},
   "outputs": [],
   "source": [
    "from PIL import Image\n",
    "from pdf2image import convert_from_path\n",
    "import pytesseract\n",
    "\n",
    "def pdf_to_txt(pdf_path):\n",
    "    # Convert PDF to images\n",
    "    images = convert_from_path(pdf_path)\n",
    "    \n",
    "    # Extract text from images using Tesseract OCR\n",
    "    text = \"\"\n",
    "    # Set the tesseract configuration\n",
    "    config = (\"-l uzb_cyrl --oem 1 --psm 3\")  # lotin -> uzb, kirill -> uzb_cyrl\n",
    "    for image in images:\n",
    "        text += pytesseract.image_to_string(image, config=config)\n",
    "        \n",
    "    return text"
   ]
  },
  {
   "cell_type": "code",
   "execution_count": null,
   "id": "13e5e0a0-b02a-403a-a949-5caf2c04996e",
   "metadata": {},
   "outputs": [],
   "source": [
    "def saqlash_boyicha_pdf_to_txt(pdf_path, txt_path):\n",
    "    matn = pdf_to_txt(pdf_path)\n",
    "    \n",
    "    with open(txt_path, 'w', encoding='utf-8') as fayl:\n",
    "        fayl.write(matn)\n",
    "\n",
    "pdf_fayl = 'fayl.pdf'\n",
    "txt_fayl = 'fayl.txt'\n",
    "\n",
    "saqlash_boyicha_pdf_to_txt(pdf_fayl, txt_fayl)"
   ]
  },
  {
   "cell_type": "code",
   "execution_count": null,
   "id": "2be1b3fc-daa2-42a8-8ac2-0930116ebf33",
   "metadata": {},
   "outputs": [],
   "source": [
    "file_path = \"docs/o-zbek-tilining-izohli-lug-ati-a.txt\"  # Fayl nomi va yo'li\n",
    "\n",
    "with open(file_path, \"w\", encoding=\"utf-8\") as file:\n",
    "    file.write(matn)\n",
    "\n",
    "print(\"Matn faylga saqlandi:\", file_path)"
   ]
  },
  {
   "cell_type": "code",
   "execution_count": null,
   "id": "8f431568-1f10-490e-9df1-c3739b2ccca0",
   "metadata": {},
   "outputs": [],
   "source": [
    "def pdfdan_matnga(pdf_yol):\n",
    "    sahifalar = convert_from_path(pdf_yol)\n",
    "\n",
    "    matn = \"\"\n",
    "    for sahifa in sahifalar:\n",
    "        sahifa_matn = pytesseract.image_to_string(sahifa, lang='uzb')\n",
    "        matn += sahifa_matn\n",
    "\n",
    "    return matn\n",
    "\n",
    "kitoblar = [\n",
    "    'kitob1.pdf',\n",
    "    'kitob2.pdf',\n",
    "    'kitob3.pdf',\n",
    "    'kitob4.pdf',\n",
    "    'kitob5.pdf',\n",
    "    'kitob6.pdf',\n",
    "    'kitob7.pdf',\n",
    "    'kitob8.pdf',\n",
    "    'kitob9.pdf',\n",
    "    'kitob10.pdf'\n",
    "]\n",
    "\n",
    "for i, kitob in enumerate(kitoblar):\n",
    "    txt_fayl = f'kitob{i+1}.txt'\n",
    "    matn = pdfdan_matnga(kitob)\n",
    "    \n",
    "    with open(txt_fayl, 'w', encoding='utf-8') as fayl:\n",
    "        fayl.write(matn)"
   ]
  },
  {
   "cell_type": "code",
   "execution_count": null,
   "id": "ca8cf2de-f8f9-44c8-9bc5-4cb969d6c82c",
   "metadata": {},
   "outputs": [],
   "source": [
    "pdf_to_txt(\"kitoblar_ziyo/10-o-zbek-tilining-izohli-lug-ati?download=2321:o-zbek-tilining-izohli-lug-ati-a.pdf"
   ]
  },
  {
   "cell_type": "code",
   "execution_count": null,
   "id": "474c46e2-fd51-4425-b2b6-119227f4fee7",
   "metadata": {},
   "outputs": [],
   "source": [
    "file_path = \"docs/o-zbek-tilining-izohli-lug-ati-a.txt\"  # Fayl nomi va yo'li\n",
    "\n",
    "with open(file_path, \"w\", encoding=\"utf-8\") as file:\n",
    "    file.write(matn)\n",
    "\n",
    "print(\"Matn faylga saqlandi:\", file_path)"
   ]
  },
  {
   "cell_type": "code",
   "execution_count": null,
   "id": "d378fa54-9356-43c7-ab75-40154b46b76a",
   "metadata": {},
   "outputs": [],
   "source": [
    "import io \n",
    "import pytesseract \n",
    "from pdf2image import convert_from_path \n",
    "\n",
    "def extract_text_from_pdf(pdf_path):\n",
    "    # Convert PDF to image pages = convert_from_path(pdf_path, 500)\n",
    "    # Extract text from each page using Tesseract OCR text_data = '' for page in pages:\n",
    "    text = pytesseract.image_to_string(page) text_data += text + '\\n'\n",
    "    # Return the text data \n",
    "    return text_data text = extract_text_from_pdf('Pfizer_Performance_Annual_Review.pdf') print(text)"
   ]
  },
  {
   "cell_type": "code",
   "execution_count": null,
   "id": "9e1c46b7-f29f-4ae3-9148-455e4741ca29",
   "metadata": {},
   "outputs": [],
   "source": []
  },
  {
   "cell_type": "code",
   "execution_count": null,
   "id": "612d40e9-b22e-4b51-bf2b-b5db3bf51268",
   "metadata": {},
   "outputs": [],
   "source": [
    "import os\n",
    "\n",
    "kitoblar_papka = 'kitoblar_ziyo'  # Kitoblar papkasi nomi\n",
    "\n",
    "kitob_yollar = []\n",
    "for fayl in os.listdir(kitoblar_papka):\n",
    "    if fayl.endswith('.pdf'):\n",
    "        fayl_yol = os.path.join(kitoblar_papka, fayl)\n",
    "        kitoblar.append(fayl_yol)\n",
    "\n",
    "kitoblar[:10]"
   ]
  },
  {
   "cell_type": "code",
   "execution_count": null,
   "id": "6502bed1-747f-42df-a6d9-bb39e8c89eaf",
   "metadata": {},
   "outputs": [],
   "source": [
    "kitob_nomi = os.path.splitext('kitoblar_ziyo/41-o-zbek-nasri?download=4363:ibrohim-g-afurov-hayo-xaloskor.pdf')[0]\n",
    "kitob_nomi"
   ]
  },
  {
   "cell_type": "code",
   "execution_count": null,
   "id": "2bfee4d3-11b8-43dc-be3f-9eccce375ad6",
   "metadata": {},
   "outputs": [],
   "source": [
    "for fayl in kitoblar:\n",
    "    kitob_nomi = os.path.splitext(fayl)[0]"
   ]
  },
  {
   "cell_type": "code",
   "execution_count": null,
   "id": "64fa7d91-8910-48cb-b339-6c2d31e4df45",
   "metadata": {},
   "outputs": [],
   "source": [
    "def pdfdan_matnga(pdf_yol):\n",
    "    sahifalar = convert_from_path(pdf_yol)\n",
    "\n",
    "    matn = \"\"\n",
    "    for sahifa in sahifalar:\n",
    "        sahifa_matn = pytesseract.image_to_string(sahifa, lang='uzb')\n",
    "        matn += sahifa_matn\n",
    "\n",
    "    return matn\n",
    "\n",
    "kitoblar = [\n",
    "    'kitob1.pdf',\n",
    "    'kitob2.pdf',\n",
    "    'kitob3.pdf',\n",
    "    'kitob4.pdf',\n",
    "    'kitob5.pdf',\n",
    "    'kitob6.pdf',\n",
    "    'kitob7.pdf',\n",
    "    'kitob8.pdf',\n",
    "    'kitob9.pdf',\n",
    "    'kitob10.pdf'\n",
    "]\n",
    "\n",
    "for i, kitob in enumerate(kitoblar):\n",
    "    txt_fayl = f'.txt'\n",
    "    matn = pdfdan_matnga(kitob)\n",
    "    \n",
    "    with open(txt_fayl, 'w', encoding='utf-8') as fayl:\n",
    "        fayl.write(matn)"
   ]
  },
  {
   "cell_type": "code",
   "execution_count": null,
   "id": "9a3b1fbe-9786-4d1d-ac25-2be36809419c",
   "metadata": {},
   "outputs": [],
   "source": [
    "import os\n",
    "import pytesseract\n",
    "from pdf2image import convert_from_path\n",
    "\n",
    "def pdfdan_matnga(pdf_yol):\n",
    "    sahifalar = convert_from_path(pdf_yol)\n",
    "\n",
    "    matn = \"\"\n",
    "    for sahifa in sahifalar:\n",
    "        sahifa_matn = pytesseract.image_to_string(sahifa, lang='uzb')\n",
    "        matn += sahifa_matn\n",
    "\n",
    "    return matn\n",
    "\n",
    "kitoblar_papka = 'kitoblar_ziyo'  # Kitoblar papkasi nomi\n",
    "matnlar_papka = 'kitob_matnlar'  # Matn fayllarini saqlash uchun papka nomi\n",
    "\n",
    "# Matn fayllarini saqlash uchun papkani yaratish\n",
    "os.makedirs(matnlar_papka, exist_ok=True)\n",
    "\n",
    "# Kitoblar papkasidagi hamma fayllarni o'qib chiqish\n",
    "for fayl in os.listdir(kitoblar_papka):\n",
    "    if fayl.endswith('.pdf'):\n",
    "        pdf_fayl_yol = os.path.join(kitoblar_papka, fayl)\n",
    "        kitob_nomi = os.path.splitext(fayl)[0]  # Fayl nomining uzantisi (masalan, .pdf) ni olib tashlaymiz\n",
    "        txt_fayl_yol = os.path.join(matnlar_papka, f'{kitob_nomi}.txt')\n",
    "\n",
    "        matn = pdfdan_matnga(pdf_fayl_yol)\n",
    "\n",
    "        with open(txt_fayl_yol, 'w', encoding='utf-8') as fayl:\n",
    "            fayl.write(matn)"
   ]
  },
  {
   "cell_type": "markdown",
   "id": "d0416b47-217c-4c62-8bdc-b742ac2ce966",
   "metadata": {},
   "source": [
    "# pdf to Text"
   ]
  },
  {
   "cell_type": "code",
   "execution_count": 7,
   "id": "53b768b5-d4f2-4d88-8d58-c0a2c5f41a48",
   "metadata": {},
   "outputs": [],
   "source": [
    "import os\n",
    "import pytesseract\n",
    "from pdf2image import convert_from_path\n",
    "\n",
    "def pdf_to_txt(pdf_yol):\n",
    "    # Convert PDF to images\n",
    "    images = convert_from_path(pdf_yol)\n",
    "    \n",
    "    # Extract text from images using Tesseract OCR\n",
    "    matn = \"\"\n",
    "    # Set the tesseract configuration\n",
    "    config = (\"-l uzb_cyrl --oem 1 --psm 3\")  # lotin -> uzb, kirill -> uzb_cyrl\n",
    "    for image in images:\n",
    "        matn += pytesseract.image_to_string(image, config=config)\n",
    "        \n",
    "    return matn\n",
    "\n",
    "kitoblar_papka = 'kitoblar_ziyo'  # Kitoblar papkasi nomi\n",
    "matnlar_papka = 'kitob_matnlar'  # Matn fayllarini saqlash uchun papka nomi\n",
    "\n",
    "# Matn fayllarini saqlash uchun papkani yaratish\n",
    "os.makedirs(matnlar_papka, exist_ok=True)\n",
    "\n",
    "# # Kitoblar papkasidagi boshlanishdagi 5 ta faylni o'qib chiqish\n",
    "# kitoblar = os.listdir(kitoblar_papka)[:]\n",
    "# for fayl in kitoblar:\n",
    "#     if fayl.endswith('.pdf'):\n",
    "#         pdf_fayl_yol = os.path.join(kitoblar_papka, fayl)\n",
    "#         kitob_nomi = os.path.splitext(fayl)[0]  # Fayl nomining uzantisi (masalan, .pdf) ni olib tashlaymiz\n",
    "#         txt_fayl_yol = os.path.join(matnlar_papka, f'{kitob_nomi}.txt')\n",
    "\n",
    "#         matn = pdf_to_txt(pdf_fayl_yol)\n",
    "\n",
    "#         with open(txt_fayl_yol, 'w', encoding='utf-8') as fayl:\n",
    "#             fayl.write(matn)"
   ]
  },
  {
   "cell_type": "code",
   "execution_count": null,
   "id": "54b61392-c92b-4b42-89bc-f81d3d2c63f9",
   "metadata": {},
   "outputs": [],
   "source": [
    "# Kitoblar papkasidagi boshlanishdagi 5 ta faylni o'qib chiqish\n",
    "kitoblar = os.listdir(kitoblar_papka)[200:300]\n",
    "for fayl in kitoblar:\n",
    "    pdf_fayl_yol = os.path.join(kitoblar_papka, fayl)\n",
    "    kitob_nomi = os.path.splitext(fayl)[0]  # Fayl nomining uzantisi (masalan, .pdf) ni olib tashlaymiz\n",
    "    txt_fayl_yol = os.path.join(matnlar_papka, f'{kitob_nomi}.txt')\n",
    "\n",
    "    matn = pdf_to_txt(pdf_fayl_yol)\n",
    "\n",
    "    with open(txt_fayl_yol, 'w', encoding='utf-8') as fayl:\n",
    "        fayl.write(matn)"
   ]
  },
  {
   "cell_type": "code",
   "execution_count": null,
   "id": "82e1840a-f8c8-425a-8487-2e5e652c4953",
   "metadata": {},
   "outputs": [],
   "source": [
    "import os\n",
    "import pytesseract\n",
    "from pdf2image import convert_from_path\n",
    "import torch\n",
    "\n",
    "def pdfdan_matnga(pdf_yol):\n",
    "    sahifalar = convert_from_path(pdf_yol)\n",
    "\n",
    "    matn = \"\"\n",
    "    for sahifa in sahifalar:\n",
    "        sahifa_matn = pytesseract.image_to_string(sahifa, lang='uzb')\n",
    "        matn += sahifa_matn\n",
    "\n",
    "    return matn\n",
    "\n",
    "# GPU ni tekshirish\n",
    "device = torch.device(\"cuda\" if torch.cuda.is_available() else \"cpu\")\n",
    "print(\"Ishlatiladigan qurilma:\", device)\n",
    "\n",
    "kitoblar_papka = 'kitoblar_ziyo'  # Kitoblar papkasi nomi\n",
    "matnlar_papka = 'kitob_matnlar'  # Matn fayllarini saqlash uchun papka nomi\n",
    "\n",
    "# Matn fayllarini saqlash uchun papkani yaratish\n",
    "os.makedirs(matnlar_papka, exist_ok=True)\n",
    "\n",
    "# Kitoblar papkasidagi boshlanishdagi 5 ta faylni o'qib chiqish\n",
    "kitoblar = os.listdir(kitoblar_papka)[100:101]\n",
    "for fayl in kitoblar:\n",
    "    if fayl.endswith('.pdf'):\n",
    "        pdf_fayl_yol = os.path.join(kitoblar_papka, fayl)\n",
    "        kitob_nomi = os.path.splitext(fayl)[0]  # Fayl nomining uzantisi (masalan, .pdf) ni olib tashlaymiz\n",
    "        txt_fayl_yol = os.path.join(matnlar_papka, f'{kitob_nomi}.txt')\n",
    "\n",
    "        matn = pdfdan_matnga(pdf_fayl_yol)\n",
    "\n",
    "        # Matnlar GPU ga ko'chirish\n",
    "        matn_tensor = torch.tensor([matn], device=device)\n",
    "\n",
    "        with open(txt_fayl_yol, 'w', encoding='utf-8') as fayl:\n",
    "            fayl.write(matn_tensor.item())"
   ]
  },
  {
   "cell_type": "code",
   "execution_count": null,
   "id": "675d6fe4-1b8f-47cb-b30e-a7d6056487a2",
   "metadata": {},
   "outputs": [],
   "source": [
    "\n"
   ]
  },
  {
   "cell_type": "code",
   "execution_count": null,
   "id": "3a62da46-80bb-43de-9b98-017a6f67698b",
   "metadata": {},
   "outputs": [],
   "source": []
  },
  {
   "cell_type": "code",
   "execution_count": null,
   "id": "eb6ab61a-ed39-423c-933d-4e600e581243",
   "metadata": {},
   "outputs": [],
   "source": [
    "import requests\n",
    "from bs4 import BeautifulSoup\n",
    "from urllib.parse import urljoin\n",
    "\n",
    "def get_all_links(url):\n",
    "    response = requests.get(url)\n",
    "    soup = BeautifulSoup(response.text, \"html.parser\")\n",
    "    base_url = response.url\n",
    "\n",
    "    links = []\n",
    "    for link in soup.find_all(\"a\"):\n",
    "        href = link.get(\"href\")\n",
    "        if href:\n",
    "            absolute_url = urljoin(base_url, href)\n",
    "            links.append(absolute_url)\n",
    "    return links\n",
    "\n",
    "    for link in soup.find_all('a'):\n",
    "        href = link.get('href')\n",
    "        if href:\n",
    "            absolute_url = urljoin(base_url, href)\n",
    "            if absolute_url.startswith(url):\n",
    "                links.append(absolute_url)\n",
    "    return links\n",
    "\n",
    "def scan_website(url, limit=100):\n",
    "    scanned_links = set()\n",
    "    links_to_scan = set([url])\n",
    "\n",
    "    while links_to_scan and len(scanned_links) < limit:\n",
    "        current_url = links_to_scan.pop()\n",
    "        if current_url in scanned_links:\n",
    "            continue\n",
    "\n",
    "        try:\n",
    "            links = get_all_links(current_url)\n",
    "            scanned_links.add(current_url)\n",
    "            links_to_scan.update(links)\n",
    "        except Exception as e:\n",
    "            print(\"Error scanning\", current_url, \":\", str(e))\n",
    "\n",
    "    return scanned_links\n",
    "\n",
    "    for link in soup.find_all('a'):\n",
    "        href = link.get('href')\n",
    "        if href:\n",
    "            absolute_url = urljoin(base_url, href)\n",
    "            if absolute_url.startswith(url):\n",
    "                links.append(absolute_url)\n",
    "    return links\n",
    "\n",
    "# Veb sahifaning URL manzili\n",
    "url = \"https://qalampir.uz/uz\"\n",
    "\n",
    "# Veb saytni skanlash va faqat dastlabki 100 tasini olish\n",
    "scanned_links = scan_website(url, limit=5000)\n",
    "\n",
    "# Natijalarni listga saqlash\n",
    "link_list = list(scanned_links)\n",
    "\n",
    "# Natijalarni chiqarish\n",
    "print(link_list)"
   ]
  },
  {
   "cell_type": "code",
   "execution_count": null,
   "id": "3c579eee-8c88-47b5-9bfc-44dc183575d5",
   "metadata": {},
   "outputs": [],
   "source": [
    "len(link_list)"
   ]
  },
  {
   "cell_type": "code",
   "execution_count": null,
   "id": "43f00a1a-37a6-4f93-8060-8beadd98c82d",
   "metadata": {},
   "outputs": [],
   "source": []
  }
 ],
 "metadata": {
  "kernelspec": {
   "display_name": "Python 3 (ipykernel)",
   "language": "python",
   "name": "python3"
  },
  "language_info": {
   "codemirror_mode": {
    "name": "ipython",
    "version": 3
   },
   "file_extension": ".py",
   "mimetype": "text/x-python",
   "name": "python",
   "nbconvert_exporter": "python",
   "pygments_lexer": "ipython3",
   "version": "3.9.15"
  }
 },
 "nbformat": 4,
 "nbformat_minor": 5
}
